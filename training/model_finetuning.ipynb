{
 "cells": [
  {
   "cell_type": "markdown",
   "id": "95cc6e1e",
   "metadata": {},
   "source": [
    "# Hand sign classification"
   ]
  },
  {
   "cell_type": "markdown",
   "id": "0732a0f0",
   "metadata": {},
   "source": [
    "## Import"
   ]
  },
  {
   "cell_type": "code",
   "execution_count": 1,
   "id": "b489d350",
   "metadata": {},
   "outputs": [
    {
     "name": "stderr",
     "output_type": "stream",
     "text": [
      "/home/tommaso/Applications/miniconda3/envs/hands/lib/python3.10/site-packages/tqdm/auto.py:21: TqdmWarning: IProgress not found. Please update jupyter and ipywidgets. See https://ipywidgets.readthedocs.io/en/stable/user_install.html\n",
      "  from .autonotebook import tqdm as notebook_tqdm\n"
     ]
    }
   ],
   "source": [
    "import pandas as pd\n",
    "import numpy as np\n",
    "import matplotlib.pyplot as plt\n",
    "import kagglehub\n",
    "import os\n",
    "import torch\n",
    "import timm\n",
    "from torch import nn\n",
    "import torch.optim as optim\n",
    "from torch.utils.data import DataLoader, random_split\n",
    "from torchvision import datasets, transforms\n",
    "from tqdm import tqdm\n",
    "from sklearn.metrics import precision_score, recall_score, f1_score, accuracy_score"
   ]
  },
  {
   "cell_type": "markdown",
   "id": "8b13511b",
   "metadata": {},
   "source": [
    "### CONSTANTS"
   ]
  },
  {
   "cell_type": "code",
   "execution_count": 2,
   "id": "a8be55d5",
   "metadata": {},
   "outputs": [],
   "source": [
    "IMG_SIZE = 224\n",
    "BATCH_SIZE = 32\n",
    "EPOCHS = 10"
   ]
  },
  {
   "cell_type": "markdown",
   "id": "9d20c190",
   "metadata": {
    "vscode": {
     "languageId": "plaintext"
    }
   },
   "source": [
    "## prepare the dataset"
   ]
  },
  {
   "cell_type": "code",
   "execution_count": 3,
   "id": "db13a8bb",
   "metadata": {},
   "outputs": [
    {
     "name": "stdout",
     "output_type": "stream",
     "text": [
      "Path to dataset files: /home/tommaso/.cache/kagglehub/datasets/jeyasrisenthil/hand-signs-asl-hand-sign-data/versions/1\n",
      "Total images: 900\n",
      "Classes: ['0', '1', '2', '3', '4', '5', '6', '7', '8', '9', 'A', 'B', 'C', 'D', 'E', 'F', 'G', 'H', 'I', 'J', 'K', 'L', 'M', 'N', 'O', 'P', 'Q', 'R', 'S', 'T', 'U', 'V', 'W', 'X', 'Y', 'Z']\n"
     ]
    }
   ],
   "source": [
    "\n",
    "# 1. Download dataset with kagglehub\n",
    "path = kagglehub.dataset_download(\"jeyasrisenthil/hand-signs-asl-hand-sign-data\")\n",
    "print(\"Path to dataset files:\", path)\n",
    "\n",
    "# The dataset unpacks into something like: <path>/asl_dataset/<class>/*.jpg\n",
    "# Let's point ImageFolder to the root that contains the class folders\n",
    "data_root = os.path.join(path, \"DATASET\")  # adjust if you see an extra nested folder\n",
    "\n",
    "# 2. Define transforms\n",
    "full_dataset = datasets.ImageFolder(root=data_root, transform=transforms.ToTensor())\n",
    "print(\"Total images:\", len(full_dataset))\n",
    "print(\"Classes:\", full_dataset.classes)\n"
   ]
  },
  {
   "cell_type": "code",
   "execution_count": 4,
   "id": "bb54637e",
   "metadata": {},
   "outputs": [
    {
     "name": "stdout",
     "output_type": "stream",
     "text": [
      "Train samples: 720\n",
      "Test samples: 180\n"
     ]
    }
   ],
   "source": [
    "test_ratio = 0.2\n",
    "test_size = int(len(full_dataset) * test_ratio)\n",
    "train_size = len(full_dataset) - test_size\n",
    "\n",
    "train_dataset, test_dataset = random_split(full_dataset, [train_size, test_size])\n",
    "\n",
    "print(\"Train samples:\", len(train_dataset))\n",
    "print(\"Test samples:\", len(test_dataset))"
   ]
  },
  {
   "cell_type": "code",
   "execution_count": 5,
   "id": "6af2319f",
   "metadata": {},
   "outputs": [
    {
     "name": "stdout",
     "output_type": "stream",
     "text": [
      "Training set mean: tensor([0.8982, 0.8347, 0.8425])\n",
      "Training set std: tensor([0.1553, 0.2467, 0.2402])\n"
     ]
    }
   ],
   "source": [
    "def compute_mean_std(dataset):\n",
    "    # accumulate sum and sum of squares\n",
    "    loader = DataLoader(dataset, batch_size=64, shuffle=False, num_workers=2)\n",
    "    mean = 0.0\n",
    "    sq_mean = 0.0\n",
    "    n_samples = 0\n",
    "    for imgs, _ in loader:\n",
    "        batch_samples = imgs.size(0)\n",
    "        imgs = imgs.view(batch_samples, imgs.size(1), -1)  # [B, C, H*W]\n",
    "        mean += imgs.mean(2).sum(0)\n",
    "        sq_mean += (imgs ** 2).mean(2).sum(0)\n",
    "        n_samples += batch_samples\n",
    "    mean /= n_samples\n",
    "    sq_mean /= n_samples\n",
    "    std = (sq_mean - mean ** 2).sqrt()\n",
    "    return mean, std\n",
    "\n",
    "mean, std = compute_mean_std(train_dataset)\n",
    "print(\"Training set mean:\", mean)\n",
    "print(\"Training set std:\", std)"
   ]
  },
  {
   "cell_type": "code",
   "execution_count": 6,
   "id": "13541b77",
   "metadata": {},
   "outputs": [],
   "source": [
    "img_size = IMG_SIZE\n",
    "\n",
    "train_transforms = transforms.Compose([\n",
    "    transforms.Resize((img_size, img_size)),\n",
    "    transforms.RandomHorizontalFlip(),\n",
    "    transforms.ToTensor(),\n",
    "    transforms.Normalize(mean=mean.tolist(), std=std.tolist())\n",
    "])\n",
    "\n",
    "test_transforms = transforms.Compose([\n",
    "    transforms.Resize((img_size, img_size)),\n",
    "    transforms.ToTensor(),\n",
    "    transforms.Normalize(mean=mean.tolist(), std=std.tolist())\n",
    "])\n",
    "\n",
    "# Update datasets with transforms\n",
    "train_dataset.dataset.transform = train_transforms\n",
    "test_dataset.dataset.transform = test_transforms\n",
    "\n",
    "# -------- 5️⃣ Create DataLoaders --------\n",
    "train_loader = DataLoader(train_dataset, batch_size=BATCH_SIZE, shuffle=True, num_workers=4)\n",
    "test_loader  = DataLoader(test_dataset, batch_size=BATCH_SIZE, shuffle=False, num_workers=4)\n"
   ]
  },
  {
   "cell_type": "code",
   "execution_count": 7,
   "id": "e29c96e8",
   "metadata": {},
   "outputs": [
    {
     "name": "stderr",
     "output_type": "stream",
     "text": [
      "/tmp/ipykernel_681618/189702565.py:7: UserWarning: To copy construct from a tensor, it is recommended to use sourceTensor.detach().clone() or sourceTensor.detach().clone().requires_grad_(True), rather than torch.tensor(sourceTensor).\n",
      "  img = img * torch.tensor(std).view(1,1,3) + torch.tensor(mean).view(1,1,3)\n"
     ]
    },
    {
     "data": {
      "image/png": "[encoded data removed]",
      "text/plain": [
       "<Figure size 1500x300 with 32 Axes>"
      ]
     },
     "metadata": {},
     "output_type": "display_data"
    }
   ],
   "source": [
    "def show_batch(loader, classes):\n",
    "    imgs, labels = next(iter(loader))\n",
    "    imgs = imgs.permute(0,2,3,1)  # CHW -> HWC\n",
    "    fig, axes = plt.subplots(1, len(imgs), figsize=(15,3))\n",
    "    for ax, img, lbl in zip(axes, imgs, labels):\n",
    "        # Undo normalization for visualization\n",
    "        img = img * torch.tensor(std).view(1,1,3) + torch.tensor(mean).view(1,1,3)\n",
    "        img = img.clamp(0,1).numpy()\n",
    "        ax.imshow(img)\n",
    "        ax.set_title(classes[lbl])\n",
    "        ax.axis(\"off\")\n",
    "    plt.show()\n",
    "\n",
    "show_batch(train_loader, full_dataset.classes)"
   ]
  },
  {
   "cell_type": "markdown",
   "id": "33377af8",
   "metadata": {},
   "source": [
    "## Load a pre-trained model"
   ]
  },
  {
   "cell_type": "code",
   "execution_count": 8,
   "id": "1df58e09",
   "metadata": {},
   "outputs": [],
   "source": [
    "device = torch.device('cuda' if torch.cuda.is_available() else 'cpu')\n",
    "num_classes = len(full_dataset.classes)"
   ]
  },
  {
   "cell_type": "markdown",
   "id": "c8a236a4",
   "metadata": {},
   "source": [
    "model definition"
   ]
  },
  {
   "cell_type": "code",
   "execution_count": 9,
   "id": "411b6ebe",
   "metadata": {},
   "outputs": [
    {
     "data": {
      "text/plain": [
       "EfficientNet(\n",
       "  (conv_stem): Conv2d(3, 32, kernel_size=(3, 3), stride=(2, 2), padding=(1, 1), bias=False)\n",
       "  (bn1): BatchNormAct2d(\n",
       "    32, eps=1e-05, momentum=0.1, affine=True, track_running_stats=True\n",
       "    (drop): Identity()\n",
       "    (act): ReLU6(inplace=True)\n",
       "  )\n",
       "  (blocks): Sequential(\n",
       "    (0): Sequential(\n",
       "      (0): DepthwiseSeparableConv(\n",
       "        (conv_dw): Conv2d(32, 32, kernel_size=(3, 3), stride=(1, 1), padding=(1, 1), groups=32, bias=False)\n",
       "        (bn1): BatchNormAct2d(\n",
       "          32, eps=1e-05, momentum=0.1, affine=True, track_running_stats=True\n",
       "          (drop): Identity()\n",
       "          (act): ReLU6(inplace=True)\n",
       "        )\n",
       "        (aa): Identity()\n",
       "        (se): Identity()\n",
       "        (conv_pw): Conv2d(32, 64, kernel_size=(1, 1), stride=(1, 1), bias=False)\n",
       "        (bn2): BatchNormAct2d(\n",
       "          64, eps=1e-05, momentum=0.1, affine=True, track_running_stats=True\n",
       "          (drop): Identity()\n",
       "          (act): ReLU6(inplace=True)\n",
       "        )\n",
       "        (drop_path): Identity()\n",
       "      )\n",
       "    )\n",
       "    (1): Sequential(\n",
       "      (0): DepthwiseSeparableConv(\n",
       "        (conv_dw): Conv2d(64, 64, kernel_size=(3, 3), stride=(2, 2), padding=(1, 1), groups=64, bias=False)\n",
       "        (bn1): BatchNormAct2d(\n",
       "          64, eps=1e-05, momentum=0.1, affine=True, track_running_stats=True\n",
       "          (drop): Identity()\n",
       "          (act): ReLU6(inplace=True)\n",
       "        )\n",
       "        (aa): Identity()\n",
       "        (se): Identity()\n",
       "        (conv_pw): Conv2d(64, 128, kernel_size=(1, 1), stride=(1, 1), bias=False)\n",
       "        (bn2): BatchNormAct2d(\n",
       "          128, eps=1e-05, momentum=0.1, affine=True, track_running_stats=True\n",
       "          (drop): Identity()\n",
       "          (act): ReLU6(inplace=True)\n",
       "        )\n",
       "        (drop_path): Identity()\n",
       "      )\n",
       "      (1): DepthwiseSeparableConv(\n",
       "        (conv_dw): Conv2d(128, 128, kernel_size=(3, 3), stride=(1, 1), padding=(1, 1), groups=128, bias=False)\n",
       "        (bn1): BatchNormAct2d(\n",
       "          128, eps=1e-05, momentum=0.1, affine=True, track_running_stats=True\n",
       "          (drop): Identity()\n",
       "          (act): ReLU6(inplace=True)\n",
       "        )\n",
       "        (aa): Identity()\n",
       "        (se): Identity()\n",
       "        (conv_pw): Conv2d(128, 128, kernel_size=(1, 1), stride=(1, 1), bias=False)\n",
       "        (bn2): BatchNormAct2d(\n",
       "          128, eps=1e-05, momentum=0.1, affine=True, track_running_stats=True\n",
       "          (drop): Identity()\n",
       "          (act): ReLU6(inplace=True)\n",
       "        )\n",
       "        (drop_path): Identity()\n",
       "      )\n",
       "    )\n",
       "    (2): Sequential(\n",
       "      (0): DepthwiseSeparableConv(\n",
       "        (conv_dw): Conv2d(128, 128, kernel_size=(3, 3), stride=(2, 2), padding=(1, 1), groups=128, bias=False)\n",
       "        (bn1): BatchNormAct2d(\n",
       "          128, eps=1e-05, momentum=0.1, affine=True, track_running_stats=True\n",
       "          (drop): Identity()\n",
       "          (act): ReLU6(inplace=True)\n",
       "        )\n",
       "        (aa): Identity()\n",
       "        (se): Identity()\n",
       "        (conv_pw): Conv2d(128, 256, kernel_size=(1, 1), stride=(1, 1), bias=False)\n",
       "        (bn2): BatchNormAct2d(\n",
       "          256, eps=1e-05, momentum=0.1, affine=True, track_running_stats=True\n",
       "          (drop): Identity()\n",
       "          (act): ReLU6(inplace=True)\n",
       "        )\n",
       "        (drop_path): Identity()\n",
       "      )\n",
       "      (1): DepthwiseSeparableConv(\n",
       "        (conv_dw): Conv2d(256, 256, kernel_size=(3, 3), stride=(1, 1), padding=(1, 1), groups=256, bias=False)\n",
       "        (bn1): BatchNormAct2d(\n",
       "          256, eps=1e-05, momentum=0.1, affine=True, track_running_stats=True\n",
       "          (drop): Identity()\n",
       "          (act): ReLU6(inplace=True)\n",
       "        )\n",
       "        (aa): Identity()\n",
       "        (se): Identity()\n",
       "        (conv_pw): Conv2d(256, 256, kernel_size=(1, 1), stride=(1, 1), bias=False)\n",
       "        (bn2): BatchNormAct2d(\n",
       "          256, eps=1e-05, momentum=0.1, affine=True, track_running_stats=True\n",
       "          (drop): Identity()\n",
       "          (act): ReLU6(inplace=True)\n",
       "        )\n",
       "        (drop_path): Identity()\n",
       "      )\n",
       "    )\n",
       "    (3): Sequential(\n",
       "      (0): DepthwiseSeparableConv(\n",
       "        (conv_dw): Conv2d(256, 256, kernel_size=(3, 3), stride=(2, 2), padding=(1, 1), groups=256, bias=False)\n",
       "        (bn1): BatchNormAct2d(\n",
       "          256, eps=1e-05, momentum=0.1, affine=True, track_running_stats=True\n",
       "          (drop): Identity()\n",
       "          (act): ReLU6(inplace=True)\n",
       "        )\n",
       "        (aa): Identity()\n",
       "        (se): Identity()\n",
       "        (conv_pw): Conv2d(256, 512, kernel_size=(1, 1), stride=(1, 1), bias=False)\n",
       "        (bn2): BatchNormAct2d(\n",
       "          512, eps=1e-05, momentum=0.1, affine=True, track_running_stats=True\n",
       "          (drop): Identity()\n",
       "          (act): ReLU6(inplace=True)\n",
       "        )\n",
       "        (drop_path): Identity()\n",
       "      )\n",
       "      (1): DepthwiseSeparableConv(\n",
       "        (conv_dw): Conv2d(512, 512, kernel_size=(3, 3), stride=(1, 1), padding=(1, 1), groups=512, bias=False)\n",
       "        (bn1): BatchNormAct2d(\n",
       "          512, eps=1e-05, momentum=0.1, affine=True, track_running_stats=True\n",
       "          (drop): Identity()\n",
       "          (act): ReLU6(inplace=True)\n",
       "        )\n",
       "        (aa): Identity()\n",
       "        (se): Identity()\n",
       "        (conv_pw): Conv2d(512, 512, kernel_size=(1, 1), stride=(1, 1), bias=False)\n",
       "        (bn2): BatchNormAct2d(\n",
       "          512, eps=1e-05, momentum=0.1, affine=True, track_running_stats=True\n",
       "          (drop): Identity()\n",
       "          (act): ReLU6(inplace=True)\n",
       "        )\n",
       "        (drop_path): Identity()\n",
       "      )\n",
       "      (2): DepthwiseSeparableConv(\n",
       "        (conv_dw): Conv2d(512, 512, kernel_size=(3, 3), stride=(1, 1), padding=(1, 1), groups=512, bias=False)\n",
       "        (bn1): BatchNormAct2d(\n",
       "          512, eps=1e-05, momentum=0.1, affine=True, track_running_stats=True\n",
       "          (drop): Identity()\n",
       "          (act): ReLU6(inplace=True)\n",
       "        )\n",
       "        (aa): Identity()\n",
       "        (se): Identity()\n",
       "        (conv_pw): Conv2d(512, 512, kernel_size=(1, 1), stride=(1, 1), bias=False)\n",
       "        (bn2): BatchNormAct2d(\n",
       "          512, eps=1e-05, momentum=0.1, affine=True, track_running_stats=True\n",
       "          (drop): Identity()\n",
       "          (act): ReLU6(inplace=True)\n",
       "        )\n",
       "        (drop_path): Identity()\n",
       "      )\n",
       "      (3): DepthwiseSeparableConv(\n",
       "        (conv_dw): Conv2d(512, 512, kernel_size=(3, 3), stride=(1, 1), padding=(1, 1), groups=512, bias=False)\n",
       "        (bn1): BatchNormAct2d(\n",
       "          512, eps=1e-05, momentum=0.1, affine=True, track_running_stats=True\n",
       "          (drop): Identity()\n",
       "          (act): ReLU6(inplace=True)\n",
       "        )\n",
       "        (aa): Identity()\n",
       "        (se): Identity()\n",
       "        (conv_pw): Conv2d(512, 512, kernel_size=(1, 1), stride=(1, 1), bias=False)\n",
       "        (bn2): BatchNormAct2d(\n",
       "          512, eps=1e-05, momentum=0.1, affine=True, track_running_stats=True\n",
       "          (drop): Identity()\n",
       "          (act): ReLU6(inplace=True)\n",
       "        )\n",
       "        (drop_path): Identity()\n",
       "      )\n",
       "      (4): DepthwiseSeparableConv(\n",
       "        (conv_dw): Conv2d(512, 512, kernel_size=(3, 3), stride=(1, 1), padding=(1, 1), groups=512, bias=False)\n",
       "        (bn1): BatchNormAct2d(\n",
       "          512, eps=1e-05, momentum=0.1, affine=True, track_running_stats=True\n",
       "          (drop): Identity()\n",
       "          (act): ReLU6(inplace=True)\n",
       "        )\n",
       "        (aa): Identity()\n",
       "        (se): Identity()\n",
       "        (conv_pw): Conv2d(512, 512, kernel_size=(1, 1), stride=(1, 1), bias=False)\n",
       "        (bn2): BatchNormAct2d(\n",
       "          512, eps=1e-05, momentum=0.1, affine=True, track_running_stats=True\n",
       "          (drop): Identity()\n",
       "          (act): ReLU6(inplace=True)\n",
       "        )\n",
       "        (drop_path): Identity()\n",
       "      )\n",
       "      (5): DepthwiseSeparableConv(\n",
       "        (conv_dw): Conv2d(512, 512, kernel_size=(3, 3), stride=(1, 1), padding=(1, 1), groups=512, bias=False)\n",
       "        (bn1): BatchNormAct2d(\n",
       "          512, eps=1e-05, momentum=0.1, affine=True, track_running_stats=True\n",
       "          (drop): Identity()\n",
       "          (act): ReLU6(inplace=True)\n",
       "        )\n",
       "        (aa): Identity()\n",
       "        (se): Identity()\n",
       "        (conv_pw): Conv2d(512, 512, kernel_size=(1, 1), stride=(1, 1), bias=False)\n",
       "        (bn2): BatchNormAct2d(\n",
       "          512, eps=1e-05, momentum=0.1, affine=True, track_running_stats=True\n",
       "          (drop): Identity()\n",
       "          (act): ReLU6(inplace=True)\n",
       "        )\n",
       "        (drop_path): Identity()\n",
       "      )\n",
       "    )\n",
       "    (4): Sequential(\n",
       "      (0): DepthwiseSeparableConv(\n",
       "        (conv_dw): Conv2d(512, 512, kernel_size=(3, 3), stride=(2, 2), padding=(1, 1), groups=512, bias=False)\n",
       "        (bn1): BatchNormAct2d(\n",
       "          512, eps=1e-05, momentum=0.1, affine=True, track_running_stats=True\n",
       "          (drop): Identity()\n",
       "          (act): ReLU6(inplace=True)\n",
       "        )\n",
       "        (aa): Identity()\n",
       "        (se): Identity()\n",
       "        (conv_pw): Conv2d(512, 1024, kernel_size=(1, 1), stride=(1, 1), bias=False)\n",
       "        (bn2): BatchNormAct2d(\n",
       "          1024, eps=1e-05, momentum=0.1, affine=True, track_running_stats=True\n",
       "          (drop): Identity()\n",
       "          (act): ReLU6(inplace=True)\n",
       "        )\n",
       "        (drop_path): Identity()\n",
       "      )\n",
       "      (1): DepthwiseSeparableConv(\n",
       "        (conv_dw): Conv2d(1024, 1024, kernel_size=(3, 3), stride=(1, 1), padding=(1, 1), groups=1024, bias=False)\n",
       "        (bn1): BatchNormAct2d(\n",
       "          1024, eps=1e-05, momentum=0.1, affine=True, track_running_stats=True\n",
       "          (drop): Identity()\n",
       "          (act): ReLU6(inplace=True)\n",
       "        )\n",
       "        (aa): Identity()\n",
       "        (se): Identity()\n",
       "        (conv_pw): Conv2d(1024, 1024, kernel_size=(1, 1), stride=(1, 1), bias=False)\n",
       "        (bn2): BatchNormAct2d(\n",
       "          1024, eps=1e-05, momentum=0.1, affine=True, track_running_stats=True\n",
       "          (drop): Identity()\n",
       "          (act): ReLU6(inplace=True)\n",
       "        )\n",
       "        (drop_path): Identity()\n",
       "      )\n",
       "    )\n",
       "  )\n",
       "  (conv_head): Identity()\n",
       "  (bn2): Identity()\n",
       "  (global_pool): SelectAdaptivePool2d(pool_type=avg, flatten=Flatten(start_dim=1, end_dim=-1))\n",
       "  (classifier): Linear(in_features=1024, out_features=36, bias=True)\n",
       ")"
      ]
     },
     "execution_count": 9,
     "metadata": {},
     "output_type": "execute_result"
    }
   ],
   "source": [
    "model = timm.create_model('mobilenetv1_100', pretrained=True)\n",
    "if hasattr(model, 'classifier'):\n",
    "    in_feats = model.classifier.in_features\n",
    "    model.classifier = nn.Linear(in_feats, num_classes)\n",
    "elif hasattr(model, 'fc'):\n",
    "    in_feats = model.fc.in_features\n",
    "    model.fc = nn.Linear(in_feats, num_classes)\n",
    "else:\n",
    "    model.head = nn.Linear(model.num_features, num_classes)\n",
    "\n",
    "model = model.to(device)\n",
    "\n",
    "model"
   ]
  },
  {
   "cell_type": "markdown",
   "id": "222b0be3",
   "metadata": {},
   "source": [
    "training"
   ]
  },
  {
   "cell_type": "code",
   "execution_count": 10,
   "id": "8b308ba4",
   "metadata": {},
   "outputs": [],
   "source": [
    "def calculate_accuracy(best_guesses, targets):\n",
    "    num_correct = torch.eq(targets, best_guesses).sum().item()\n",
    "    total_guesses = len(targets)\n",
    "    correct_percentage = num_correct/total_guesses\n",
    "    return correct_percentage\n",
    "\n",
    "\n",
    "def validate(net, val_loader, loss_function):\n",
    "    val_losses = []\n",
    "    val_accuracy = []\n",
    "\n",
    "    net.eval()\n",
    "    with torch.no_grad():\n",
    "        for batch_idx, data in tqdm(enumerate(val_loader), total=len(val_loader)):\n",
    "            inputs, labels = data[0].to(device), data[1].to(device)\n",
    "\n",
    "            outputs = net(inputs)\n",
    "\n",
    "            loss = loss_function(outputs, labels)\n",
    "            val_losses.append(loss)\n",
    "            predicted_classes = torch.max(outputs, 1)[1] # get class from network's prediction\n",
    "            val_accuracy.append(calculate_accuracy(predicted_classes.cpu(), labels.cpu()))\n",
    "\n",
    "    average_val_loss = sum(val_losses) / (batch_idx+1)\n",
    "    average_val_accuracy = sum(val_accuracy) / len(val_loader)\n",
    "    return average_val_accuracy, average_val_loss\n",
    "\n",
    "\n",
    "def training(net, train_loader, val_loader, loss_function, epochs, lr=3e-4):\n",
    "    optimizer = torch.optim.Adam(net.parameters(), lr=lr)\n",
    "\n",
    "    tot_train_batches = len(train_loader)\n",
    "\n",
    "    train_loss_history = []\n",
    "    train_accuracy_history = []\n",
    "    val_loss_history = []\n",
    "    val_accuracy_history = []\n",
    "\n",
    "    for epoch in range(epochs):\n",
    "        total_epoch_loss = 0\n",
    "        train_accuracy = []\n",
    "\n",
    "        progress = tqdm(enumerate(train_loader), desc=\"Loss: \", total=tot_train_batches)\n",
    "        net.train()\n",
    "        for batch_idx, data in progress:\n",
    "            inputs, labels = data[0].to(device), data[1].to(device)\n",
    "            outputs = net(inputs)\n",
    "            loss = loss_function(outputs, labels)\n",
    "            net.zero_grad()\n",
    "            loss.backward()\n",
    "            optimizer.step()\n",
    "\n",
    "            current_loss = loss.item()\n",
    "\n",
    "            total_epoch_loss += current_loss\n",
    "            average_train_loss = total_epoch_loss / (batch_idx + 1)\n",
    "\n",
    "            predicted_classes = torch.max(outputs, 1)[1] # get class from network's prediction\n",
    "            train_accuracy.append(calculate_accuracy(predicted_classes.cpu(), labels.cpu()))\n",
    "            average_train_accuracy = sum(train_accuracy) / (batch_idx + 1)\n",
    "\n",
    "            progress.set_description(\"Training Loss: {:.4f}, Accuracy: {:.4f}\".format(average_train_loss, average_train_accuracy))\n",
    "\n",
    "        average_val_accuracy, average_val_loss = validate(net, val_loader, loss_function)\n",
    "        average_train_accuracy = sum(train_accuracy) / tot_train_batches\n",
    "\n",
    "        print('Epoch %d/%d' % (epoch + 1,epochs), 'Training loss:  %.4f' % (average_train_loss), 'Accuracy: %.4f' % (average_train_accuracy))\n",
    "        print('Validation Loss: %.4f' % (average_val_loss), 'Accuracy: %.4f' % (average_val_accuracy))\n",
    "\n",
    "        train_loss_history.append(average_train_loss)\n",
    "        val_loss_history.append(average_val_loss)\n",
    "        train_accuracy_history.append(average_train_accuracy)\n",
    "        val_accuracy_history.append(average_val_accuracy)\n",
    "\n",
    "    return train_loss_history, train_accuracy_history, val_loss_history, val_accuracy_history\n",
    "\n"
   ]
  },
  {
   "cell_type": "code",
   "execution_count": 11,
   "id": "9758e99d",
   "metadata": {},
   "outputs": [
    {
     "name": "stderr",
     "output_type": "stream",
     "text": [
      "Training Loss: 2.5135, Accuracy: 0.4226: 100%|██████████| 23/23 [00:00<00:00, 28.26it/s]\n",
      "100%|██████████| 6/6 [00:00<00:00, 38.17it/s]"
     ]
    },
    {
     "name": "stdout",
     "output_type": "stream",
     "text": [
      "Epoch 1/10 Training loss:  2.5135 Accuracy: 0.4226\n",
      "Validation Loss: 2.2846 Accuracy: 0.3125\n"
     ]
    },
    {
     "name": "stderr",
     "output_type": "stream",
     "text": [
      "\n",
      "Training Loss: 0.6308, Accuracy: 0.9049: 100%|██████████| 23/23 [00:00<00:00, 38.55it/s]\n",
      "100%|██████████| 6/6 [00:00<00:00, 40.06it/s]"
     ]
    },
    {
     "name": "stdout",
     "output_type": "stream",
     "text": [
      "Epoch 2/10 Training loss:  0.6308 Accuracy: 0.9049\n",
      "Validation Loss: 0.7708 Accuracy: 0.7719\n"
     ]
    },
    {
     "name": "stderr",
     "output_type": "stream",
     "text": [
      "\n",
      "Training Loss: 0.1896, Accuracy: 0.9742: 100%|██████████| 23/23 [00:00<00:00, 39.81it/s]\n",
      "100%|██████████| 6/6 [00:00<00:00, 41.47it/s]"
     ]
    },
    {
     "name": "stdout",
     "output_type": "stream",
     "text": [
      "Epoch 3/10 Training loss:  0.1896 Accuracy: 0.9742\n",
      "Validation Loss: 0.4576 Accuracy: 0.8573\n"
     ]
    },
    {
     "name": "stderr",
     "output_type": "stream",
     "text": [
      "\n",
      "Training Loss: 0.0948, Accuracy: 0.9837: 100%|██████████| 23/23 [00:00<00:00, 39.89it/s]\n",
      "100%|██████████| 6/6 [00:00<00:00, 40.11it/s]"
     ]
    },
    {
     "name": "stdout",
     "output_type": "stream",
     "text": [
      "Epoch 4/10 Training loss:  0.0948 Accuracy: 0.9837\n",
      "Validation Loss: 1.0355 Accuracy: 0.7240\n"
     ]
    },
    {
     "name": "stderr",
     "output_type": "stream",
     "text": [
      "\n",
      "Training Loss: 0.0700, Accuracy: 0.9918: 100%|██████████| 23/23 [00:00<00:00, 39.99it/s]\n",
      "100%|██████████| 6/6 [00:00<00:00, 40.81it/s]"
     ]
    },
    {
     "name": "stdout",
     "output_type": "stream",
     "text": [
      "Epoch 5/10 Training loss:  0.0700 Accuracy: 0.9918\n",
      "Validation Loss: 0.5897 Accuracy: 0.8292\n"
     ]
    },
    {
     "name": "stderr",
     "output_type": "stream",
     "text": [
      "\n",
      "Training Loss: 0.0636, Accuracy: 0.9891: 100%|██████████| 23/23 [00:00<00:00, 38.46it/s]\n",
      "100%|██████████| 6/6 [00:00<00:00, 38.56it/s]"
     ]
    },
    {
     "name": "stdout",
     "output_type": "stream",
     "text": [
      "Epoch 6/10 Training loss:  0.0636 Accuracy: 0.9891\n",
      "Validation Loss: 0.2675 Accuracy: 0.9125\n"
     ]
    },
    {
     "name": "stderr",
     "output_type": "stream",
     "text": [
      "\n",
      "Training Loss: 0.0589, Accuracy: 0.9878: 100%|██████████| 23/23 [00:00<00:00, 38.51it/s]\n",
      "100%|██████████| 6/6 [00:00<00:00, 41.98it/s]"
     ]
    },
    {
     "name": "stdout",
     "output_type": "stream",
     "text": [
      "Epoch 7/10 Training loss:  0.0589 Accuracy: 0.9878\n",
      "Validation Loss: 0.2675 Accuracy: 0.9271\n"
     ]
    },
    {
     "name": "stderr",
     "output_type": "stream",
     "text": [
      "\n",
      "Training Loss: 0.0434, Accuracy: 0.9891: 100%|██████████| 23/23 [00:00<00:00, 39.45it/s]\n",
      "100%|██████████| 6/6 [00:00<00:00, 40.90it/s]"
     ]
    },
    {
     "name": "stdout",
     "output_type": "stream",
     "text": [
      "Epoch 8/10 Training loss:  0.0434 Accuracy: 0.9891\n",
      "Validation Loss: 0.4090 Accuracy: 0.8896\n"
     ]
    },
    {
     "name": "stderr",
     "output_type": "stream",
     "text": [
      "\n",
      "Training Loss: 0.0968, Accuracy: 0.9769: 100%|██████████| 23/23 [00:00<00:00, 38.84it/s]\n",
      "100%|██████████| 6/6 [00:00<00:00, 41.93it/s]"
     ]
    },
    {
     "name": "stdout",
     "output_type": "stream",
     "text": [
      "Epoch 9/10 Training loss:  0.0968 Accuracy: 0.9769\n",
      "Validation Loss: 0.6870 Accuracy: 0.8104\n"
     ]
    },
    {
     "name": "stderr",
     "output_type": "stream",
     "text": [
      "\n",
      "Training Loss: 0.0595, Accuracy: 0.9837: 100%|██████████| 23/23 [00:00<00:00, 40.19it/s]\n",
      "100%|██████████| 6/6 [00:00<00:00, 40.38it/s]"
     ]
    },
    {
     "name": "stdout",
     "output_type": "stream",
     "text": [
      "Epoch 10/10 Training loss:  0.0595 Accuracy: 0.9837\n",
      "Validation Loss: 0.7040 Accuracy: 0.7750\n"
     ]
    },
    {
     "name": "stderr",
     "output_type": "stream",
     "text": [
      "\n"
     ]
    }
   ],
   "source": [
    "criterion = nn.CrossEntropyLoss()\n",
    "optimizer = optim.Adam(model.parameters(), lr=1e-4)\n",
    "epochs = EPOCHS\n",
    "\n",
    "t_loss, t_acc, val_loss, val_acc= training(model, train_loader, test_loader, criterion, epochs)"
   ]
  },
  {
   "cell_type": "code",
   "execution_count": 12,
   "id": "06bb0eca",
   "metadata": {},
   "outputs": [
    {
     "data": {
      "image/png": "[encoded data removed]",
      "text/plain": [
       "<Figure size 640x480 with 1 Axes>"
      ]
     },
     "metadata": {},
     "output_type": "display_data"
    }
   ],
   "source": [
    "epochs_range = range(1, len(t_loss) + 1)\n",
    "\n",
    "plt.subplot(1,2,2)\n",
    "plt.plot(epochs_range, t_acc, label='Train Acc', marker='o')\n",
    "plt.plot(epochs_range, val_acc, label='Validation Acc', marker='o')\n",
    "plt.xlabel('Epoch')\n",
    "plt.ylabel('Accuracy')\n",
    "plt.title('Train vs Validation Accuracy')\n",
    "plt.legend()\n",
    "plt.grid(True)\n",
    "\n",
    "plt.tight_layout()\n",
    "plt.show()"
   ]
  },
  {
   "cell_type": "markdown",
   "id": "dc243d17",
   "metadata": {},
   "source": [
    "ONNX export"
   ]
  },
  {
   "cell_type": "code",
   "execution_count": 15,
   "id": "0fcbfab0",
   "metadata": {},
   "outputs": [
    {
     "name": "stderr",
     "output_type": "stream",
     "text": [
      "/tmp/ipykernel_681618/2313090671.py:4: DeprecationWarning: You are using the legacy TorchScript-based ONNX export. Starting in PyTorch 2.9, the new torch.export-based ONNX exporter will be the default. To switch now, set dynamo=True in torch.onnx.export. This new exporter supports features like exporting LLMs with DynamicCache. We encourage you to try it and share feedback to help improve the experience. Learn more about the new export logic: https://pytorch.org/docs/stable/onnx_dynamo.html. For exporting control flow: https://pytorch.org/tutorials/beginner/onnx/export_control_flow_model_to_onnx_tutorial.html.\n",
      "  torch.onnx.export(model, dummy_input, \"./models/asl_classification.onnx\",\n"
     ]
    },
    {
     "name": "stdout",
     "output_type": "stream",
     "text": [
      "Exported ONNX model ready for Vitis AI quantization.\n"
     ]
    }
   ],
   "source": [
    "dummy_input = torch.randn(1, 3, img_size, img_size, device=device)\n",
    "model.eval()\n",
    "os.makedirs(\"./models\", exist_ok=True)\n",
    "torch.onnx.export(model, dummy_input, \"./models/asl_classification.onnx\",\n",
    "                  opset_version=11,\n",
    "                  input_names=['input'],\n",
    "                  output_names=['output'],\n",
    "                  dynamic_axes=None)  # static shapes required for DPU\n",
    "print(\"Exported ONNX model ready for Vitis AI quantization.\")"
   ]
  }
 ],
 "metadata": {
  "kernelspec": {
   "display_name": "hands",
   "language": "python",
   "name": "python3"
  },
  "language_info": {
   "codemirror_mode": {
    "name": "ipython",
    "version": 3
   },
   "file_extension": ".py",
   "mimetype": "text/x-python",
   "name": "python",
   "nbconvert_exporter": "python",
   "pygments_lexer": "ipython3",
   "version": "3.10.18"
  }
 },
 "nbformat": 4,
 "nbformat_minor": 5
}
