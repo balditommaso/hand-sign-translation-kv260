{
 "cells": [
  {
   "cell_type": "markdown",
   "id": "95cc6e1e",
   "metadata": {},
   "source": [
    "# Hand sign classification"
   ]
  },
  {
   "cell_type": "code",
   "execution_count": null,
   "id": "9d20c190",
   "metadata": {
    "vscode": {
     "languageId": "plaintext"
    }
   },
   "outputs": [],
   "source": []
  }
 ],
 "metadata": {
  "language_info": {
   "name": "python"
  }
 },
 "nbformat": 4,
 "nbformat_minor": 5
}
